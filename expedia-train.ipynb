{
 "cells": [
  {
   "cell_type": "markdown",
   "metadata": {},
   "source": [
    "#### The goal is to predict 5 hotel clusters where a user is more likely to stay, out of a total of 100 hotel clusters"
   ]
  },
  {
   "cell_type": "code",
   "execution_count": 1,
   "metadata": {
    "collapsed": true
   },
   "outputs": [],
   "source": [
    "import os\n",
    "import matplotlib.pyplot as plt\n",
    "import numpy as np\n",
    "import pandas as pd\n",
    "import pickle\n",
    "import seaborn as sns\n",
    "import xgboost as xgb\n",
    "\n",
    "from fancyimpute import SoftImpute\n",
    "from sklearn.model_selection import cross_val_score, train_test_split\n",
    "from sklearn.externals import joblib\n",
    "from sklearn.ensemble import RandomForestClassifier\n",
    "from xgboost.sklearn import XGBClassifier\n",
    "\n",
    "INPUT_DIR = '/Users/himani/workspace/assignment/pervazive/expedia/input'\n",
    "MODELS_DIR = '/Users/himani/workspace/assignment/pervazive/expedia/models'\n",
    "OUTPUT_DIR = '/Users/himani/workspace/assignment/pervazive/expedia/output'\n",
    "%matplotlib inline"
   ]
  },
  {
   "cell_type": "markdown",
   "metadata": {},
   "source": [
    "Reading expedia train and test data in separate dataframes\n",
    "train data contains about 37 million rows and\n",
    "test data contains about 2.5 million rows.\n",
    "\n",
    "Code in this file processes training data and create models- Random Forests and xgboost"
   ]
  },
  {
   "cell_type": "code",
   "execution_count": 2,
   "metadata": {
    "collapsed": true
   },
   "outputs": [],
   "source": [
    "train_file = os.path.join(INPUT_DIR, 'train_clean1.csv')\n",
    "test_file = os.path.join(INPUT_DIR, 'test_clean.csv')\n",
    "destinations_file = os.path.join(INPUT_DIR, 'destinations.csv')"
   ]
  },
  {
   "cell_type": "code",
   "execution_count": 3,
   "metadata": {
    "collapsed": true
   },
   "outputs": [],
   "source": [
    "# reading train file and parsing date_time columns to datetime format\n",
    "\n",
    "train = pd.read_csv(train_file, parse_dates = ['date_time','srch_ci','srch_co'])"
   ]
  },
  {
   "cell_type": "code",
   "execution_count": 4,
   "metadata": {
    "collapsed": true
   },
   "outputs": [],
   "source": [
    "# converting srch_ci and srch_co to datetime \n",
    "\n",
    "train['srch_ci'] = pd.to_datetime(train['srch_ci'],format='%Y-%m-%d', errors=\"coerce\")\n",
    "train['srch_co'] = pd.to_datetime(train['srch_co'],format='%Y-%m-%d', errors=\"coerce\")"
   ]
  },
  {
   "cell_type": "code",
   "execution_count": 5,
   "metadata": {
    "collapsed": true
   },
   "outputs": [],
   "source": [
    "# for simplification taking only booking data\n",
    "\n",
    "train = train[train['is_booking'] == 1].reset_index()"
   ]
  },
  {
   "cell_type": "code",
   "execution_count": 6,
   "metadata": {
    "collapsed": false
   },
   "outputs": [
    {
     "name": "stdout",
     "output_type": "stream",
     "text": [
      "Missing values in attributes \n",
      "\n",
      "index ------>  0.0\n",
      "date_time ------>  0.0\n",
      "site_name ------>  0.0\n",
      "posa_continent ------>  0.0\n",
      "user_location_country ------>  0.0\n",
      "user_location_region ------>  0.0\n",
      "user_location_city ------>  0.0\n",
      "orig_destination_distance ------>  33.831484927\n",
      "user_id ------>  0.0\n",
      "is_mobile ------>  0.0\n",
      "is_package ------>  0.0\n",
      "channel ------>  0.0\n",
      "srch_ci ------>  0.0\n",
      "srch_co ------>  0.0\n",
      "srch_adults_cnt ------>  0.0\n",
      "srch_children_cnt ------>  0.0\n",
      "srch_rm_cnt ------>  0.0\n",
      "srch_destination_id ------>  0.0\n",
      "srch_destination_type_id ------>  0.0\n",
      "is_booking ------>  0.0\n",
      "cnt ------>  0.0\n",
      "hotel_continent ------>  0.0\n",
      "hotel_country ------>  0.0\n",
      "hotel_market ------>  0.0\n",
      "hotel_cluster ------>  0.0\n"
     ]
    }
   ],
   "source": [
    "#checking missing value percentage in training set\n",
    "\n",
    "#only orig_destination_distance has missing values\n",
    "\n",
    "from __future__ import division\n",
    "length=len(train)\n",
    "print(\"Missing values in attributes \\n\")\n",
    "for col in train.columns.tolist():\n",
    "    missing_perc=(train[col].isnull().sum()/length)*100\n",
    "    print(col+\" ------> \",missing_perc)\n",
    "    "
   ]
  },
  {
   "cell_type": "markdown",
   "metadata": {},
   "source": [
    "## Feature Engineering\n",
    "\n",
    "creating new features - duration(of stay), month in both test and train"
   ]
  },
  {
   "cell_type": "code",
   "execution_count": 7,
   "metadata": {
    "collapsed": false,
    "scrolled": true
   },
   "outputs": [
    {
     "name": "stdout",
     "output_type": "stream",
     "text": [
      "Most frequent duration of stay in training is 1\n"
     ]
    }
   ],
   "source": [
    "# calculate duration of stay (in days) and creating month\n",
    "\n",
    "train['duration'] = (train['srch_co'] - train['srch_ci']).dt.days\n",
    "print(\"Most frequent duration of stay in training is\",train['duration'].mode()[0])\n",
    "\n",
    "# month\n",
    "train['month'] = train['srch_ci'].dt.month"
   ]
  },
  {
   "cell_type": "code",
   "execution_count": 8,
   "metadata": {
    "collapsed": true
   },
   "outputs": [],
   "source": [
    "# now deleting date_time, srch_co and srch_ci\n",
    "\n",
    "train.drop(['srch_co','srch_ci'], inplace = True, axis = 1)"
   ]
  },
  {
   "cell_type": "markdown",
   "metadata": {},
   "source": [
    "### Replacing missing values in duration with mode & month column with date_time column\n"
   ]
  },
  {
   "cell_type": "code",
   "execution_count": 9,
   "metadata": {
    "collapsed": true
   },
   "outputs": [],
   "source": [
    "train['duration'].fillna(train['duration'].mode()[0], inplace = True)\n",
    "\n",
    "train['month'].fillna(train['date_time'].dt.month, inplace = True)\n",
    "\n",
    "train['duration'] = train['duration'].astype(int)\n",
    "\n",
    "train['month'] = train['month'].astype(int)\n"
   ]
  },
  {
   "cell_type": "markdown",
   "metadata": {},
   "source": [
    "### Replacing missing values of orig_destination_distance with matrix completion\n"
   ]
  },
  {
   "cell_type": "code",
   "execution_count": 10,
   "metadata": {
    "collapsed": true
   },
   "outputs": [],
   "source": [
    "df = train.loc[:,['user_location_city','hotel_market','orig_destination_distance']]\n",
    "df_matrix = df.as_matrix()"
   ]
  },
  {
   "cell_type": "markdown",
   "metadata": {},
   "source": [
    "#### SoftImpute: Matrix completion by iterative soft thresholding of SVD decompositions.\n"
   ]
  },
  {
   "cell_type": "code",
   "execution_count": 11,
   "metadata": {
    "collapsed": false
   },
   "outputs": [
    {
     "name": "stdout",
     "output_type": "stream",
     "text": [
      "[SoftImpute] Max Singular Value of X_init = 56357176.332212\n",
      "[SoftImpute] Iter 1: observed MAE=492.036427 rank=2\n",
      "[SoftImpute] Iter 2: observed MAE=495.486976 rank=2\n",
      "[SoftImpute] Iter 3: observed MAE=498.157844 rank=2\n",
      "[SoftImpute] Iter 4: observed MAE=500.170632 rank=2\n",
      "[SoftImpute] Iter 5: observed MAE=501.658756 rank=2\n",
      "[SoftImpute] Iter 6: observed MAE=502.749975 rank=2\n",
      "[SoftImpute] Iter 7: observed MAE=503.550428 rank=2\n",
      "[SoftImpute] Iter 8: observed MAE=504.142351 rank=2\n",
      "[SoftImpute] Iter 9: observed MAE=504.582116 rank=2\n",
      "[SoftImpute] Iter 10: observed MAE=504.911202 rank=2\n",
      "[SoftImpute] Iter 11: observed MAE=505.157733 rank=2\n",
      "[SoftImpute] Iter 12: observed MAE=505.343364 rank=2\n",
      "[SoftImpute] Iter 13: observed MAE=505.484026 rank=2\n",
      "[SoftImpute] Iter 14: observed MAE=505.590520 rank=2\n",
      "[SoftImpute] Iter 15: observed MAE=505.671318 rank=2\n",
      "[SoftImpute] Iter 16: observed MAE=505.732731 rank=2\n",
      "[SoftImpute] Iter 17: observed MAE=505.779487 rank=2\n",
      "[SoftImpute] Iter 18: observed MAE=505.815145 rank=2\n",
      "[SoftImpute] Iter 19: observed MAE=505.842352 rank=2\n",
      "[SoftImpute] Iter 20: observed MAE=505.863102 rank=2\n",
      "[SoftImpute] Iter 21: observed MAE=505.878932 rank=2\n",
      "[SoftImpute] Iter 22: observed MAE=505.891014 rank=2\n",
      "[SoftImpute] Stopped after iteration 22 for lambda=1127143.526644\n"
     ]
    }
   ],
   "source": [
    "from fancyimpute import SoftImpute\n",
    "df_matrix_filled = SoftImpute().complete(df_matrix)"
   ]
  },
  {
   "cell_type": "code",
   "execution_count": 12,
   "metadata": {
    "collapsed": true
   },
   "outputs": [],
   "source": [
    "# appending filled matrices to respective columns\n",
    "\n",
    "train['user_location_city'] = pd.Series(df_matrix_filled[:,0])\n",
    "train['hotel_market'] = pd.Series(df_matrix_filled[:,1])\n",
    "train['orig_destination_distance'] = pd.Series(df_matrix_filled[:,2])"
   ]
  },
  {
   "cell_type": "code",
   "execution_count": 13,
   "metadata": {
    "collapsed": false
   },
   "outputs": [
    {
     "data": {
      "text/html": [
       "<div>\n",
       "<table border=\"1\" class=\"dataframe\">\n",
       "  <thead>\n",
       "    <tr style=\"text-align: right;\">\n",
       "      <th></th>\n",
       "      <th>index</th>\n",
       "      <th>date_time</th>\n",
       "      <th>site_name</th>\n",
       "      <th>posa_continent</th>\n",
       "      <th>user_location_country</th>\n",
       "      <th>user_location_region</th>\n",
       "      <th>user_location_city</th>\n",
       "      <th>orig_destination_distance</th>\n",
       "      <th>user_id</th>\n",
       "      <th>is_mobile</th>\n",
       "      <th>...</th>\n",
       "      <th>srch_destination_id</th>\n",
       "      <th>srch_destination_type_id</th>\n",
       "      <th>is_booking</th>\n",
       "      <th>cnt</th>\n",
       "      <th>hotel_continent</th>\n",
       "      <th>hotel_country</th>\n",
       "      <th>hotel_market</th>\n",
       "      <th>hotel_cluster</th>\n",
       "      <th>duration</th>\n",
       "      <th>month</th>\n",
       "    </tr>\n",
       "  </thead>\n",
       "  <tbody>\n",
       "    <tr>\n",
       "      <th>0</th>\n",
       "      <td>1</td>\n",
       "      <td>2014-08-11 08:22:12</td>\n",
       "      <td>2</td>\n",
       "      <td>3</td>\n",
       "      <td>66</td>\n",
       "      <td>348</td>\n",
       "      <td>48862.0</td>\n",
       "      <td>2234.264100</td>\n",
       "      <td>12</td>\n",
       "      <td>0</td>\n",
       "      <td>...</td>\n",
       "      <td>8250</td>\n",
       "      <td>1</td>\n",
       "      <td>1</td>\n",
       "      <td>1</td>\n",
       "      <td>2</td>\n",
       "      <td>50</td>\n",
       "      <td>628.0</td>\n",
       "      <td>1</td>\n",
       "      <td>4</td>\n",
       "      <td>8</td>\n",
       "    </tr>\n",
       "    <tr>\n",
       "      <th>1</th>\n",
       "      <td>20</td>\n",
       "      <td>2014-02-27 18:01:32</td>\n",
       "      <td>2</td>\n",
       "      <td>3</td>\n",
       "      <td>66</td>\n",
       "      <td>318</td>\n",
       "      <td>52078.0</td>\n",
       "      <td>2098.097723</td>\n",
       "      <td>756</td>\n",
       "      <td>0</td>\n",
       "      <td>...</td>\n",
       "      <td>8291</td>\n",
       "      <td>1</td>\n",
       "      <td>1</td>\n",
       "      <td>1</td>\n",
       "      <td>2</td>\n",
       "      <td>50</td>\n",
       "      <td>191.0</td>\n",
       "      <td>2</td>\n",
       "      <td>2</td>\n",
       "      <td>4</td>\n",
       "    </tr>\n",
       "    <tr>\n",
       "      <th>2</th>\n",
       "      <td>27</td>\n",
       "      <td>2013-06-15 15:38:05</td>\n",
       "      <td>30</td>\n",
       "      <td>4</td>\n",
       "      <td>195</td>\n",
       "      <td>548</td>\n",
       "      <td>56440.0</td>\n",
       "      <td>2271.821667</td>\n",
       "      <td>1048</td>\n",
       "      <td>0</td>\n",
       "      <td>...</td>\n",
       "      <td>1385</td>\n",
       "      <td>1</td>\n",
       "      <td>1</td>\n",
       "      <td>1</td>\n",
       "      <td>0</td>\n",
       "      <td>185</td>\n",
       "      <td>185.0</td>\n",
       "      <td>58</td>\n",
       "      <td>8</td>\n",
       "      <td>9</td>\n",
       "    </tr>\n",
       "  </tbody>\n",
       "</table>\n",
       "<p>3 rows × 25 columns</p>\n",
       "</div>"
      ],
      "text/plain": [
       "   index           date_time  site_name  posa_continent  \\\n",
       "0      1 2014-08-11 08:22:12          2               3   \n",
       "1     20 2014-02-27 18:01:32          2               3   \n",
       "2     27 2013-06-15 15:38:05         30               4   \n",
       "\n",
       "   user_location_country  user_location_region  user_location_city  \\\n",
       "0                     66                   348             48862.0   \n",
       "1                     66                   318             52078.0   \n",
       "2                    195                   548             56440.0   \n",
       "\n",
       "   orig_destination_distance  user_id  is_mobile  ...    srch_destination_id  \\\n",
       "0                2234.264100       12          0  ...                   8250   \n",
       "1                2098.097723      756          0  ...                   8291   \n",
       "2                2271.821667     1048          0  ...                   1385   \n",
       "\n",
       "   srch_destination_type_id  is_booking  cnt  hotel_continent  hotel_country  \\\n",
       "0                         1           1    1                2             50   \n",
       "1                         1           1    1                2             50   \n",
       "2                         1           1    1                0            185   \n",
       "\n",
       "   hotel_market  hotel_cluster  duration  month  \n",
       "0         628.0              1         4      8  \n",
       "1         191.0              2         2      4  \n",
       "2         185.0             58         8      9  \n",
       "\n",
       "[3 rows x 25 columns]"
      ]
     },
     "execution_count": 13,
     "metadata": {},
     "output_type": "execute_result"
    }
   ],
   "source": [
    "train.head(3)"
   ]
  },
  {
   "cell_type": "markdown",
   "metadata": {},
   "source": [
    "## Exploratory Analysis"
   ]
  },
  {
   "cell_type": "code",
   "execution_count": 14,
   "metadata": {
    "collapsed": false
   },
   "outputs": [
    {
     "data": {
      "image/png": "[encoded data removed]",
      "text/plain": [
       "<matplotlib.figure.Figure at 0x362f2f6a0>"
      ]
     },
     "metadata": {},
     "output_type": "display_data"
    }
   ],
   "source": [
    "#frequency of each hotel cluster in dataset\n",
    "\n",
    "fig, ax1 = plt.subplots(1,1, figsize = (15,7))\n",
    "train[\"hotel_cluster\"].value_counts().plot(kind='bar',colormap=\"Set3\", ax=ax1)\n",
    "plt.show()"
   ]
  },
  {
   "cell_type": "markdown",
   "metadata": {},
   "source": [
    "The cluster-wise distribution is not even with certain clusters having more instances in the training data than others."
   ]
  },
  {
   "cell_type": "code",
   "execution_count": 15,
   "metadata": {
    "collapsed": false
   },
   "outputs": [
    {
     "data": {
      "image/png": "[encoded data removed]",
      "text/plain": [
       "<matplotlib.figure.Figure at 0x10e306c18>"
      ]
     },
     "metadata": {},
     "output_type": "display_data"
    }
   ],
   "source": [
    "# duration of stay vs hotel cluster\n",
    "\n",
    "sns.regplot(x = \"hotel_cluster\",y = 'duration', data = train)\n",
    "plt.show()"
   ]
  },
  {
   "cell_type": "markdown",
   "metadata": {},
   "source": [
    "All the clusters seem equally likely when the duration is short, but as the duration increases, certain hotel clusters are preferred over the others. This seems to be a good feature to identify the hotel cluster user would choose."
   ]
  },
  {
   "cell_type": "code",
   "execution_count": 16,
   "metadata": {
    "collapsed": false
   },
   "outputs": [
    {
     "data": {
      "text/plain": [
       "<matplotlib.axes._subplots.AxesSubplot at 0x371a550b8>"
      ]
     },
     "execution_count": 16,
     "metadata": {},
     "output_type": "execute_result"
    },
    {
     "data": {
      "image/png": "[encoded data removed]",
      "text/plain": [
       "<matplotlib.figure.Figure at 0x354bfd9b0>"
      ]
     },
     "metadata": {},
     "output_type": "display_data"
    }
   ],
   "source": [
    "# number of bookings each month and most effective channel\n",
    "\n",
    "fig, (ax1, ax2) = plt.subplots(1,2, figsize = (12,4))\n",
    "\n",
    "sns.countplot('month',data = train,order=list(range(1,13)),palette=\"Set2\", ax = ax1)\n",
    "sns.countplot('channel',data=train,order=list(range(1,10)),palette=\"Set2\", ax = ax2)"
   ]
  },
  {
   "cell_type": "markdown",
   "metadata": {},
   "source": [
    "It appears most of the booking are made in september and channel 9 appears to be most effective in making the bookings"
   ]
  },
  {
   "cell_type": "code",
   "execution_count": 21,
   "metadata": {
    "collapsed": false
   },
   "outputs": [
    {
     "name": "stderr",
     "output_type": "stream",
     "text": [
      "/usr/local/lib/python3.5/site-packages/seaborn/matrix.py:143: DeprecationWarning: elementwise == comparison failed; this will raise an error in the future.\n",
      "  if xticklabels == []:\n",
      "/usr/local/lib/python3.5/site-packages/seaborn/matrix.py:151: DeprecationWarning: elementwise == comparison failed; this will raise an error in the future.\n",
      "  if yticklabels == []:\n"
     ]
    },
    {
     "data": {
      "text/plain": [
       "<matplotlib.axes._subplots.AxesSubplot at 0x11494f860>"
      ]
     },
     "execution_count": 21,
     "metadata": {},
     "output_type": "execute_result"
    },
    {
     "data": {
      "image/png": "[encoded data removed]",
      "text/plain": [
       "<matplotlib.figure.Figure at 0x11491f0f0>"
      ]
     },
     "metadata": {},
     "output_type": "display_data"
    }
   ],
   "source": [
    "#checking correlation among features of training dataset\n",
    "\n",
    "fig, (ax1)  = plt.subplots(1,1,figsize=(12,9))\n",
    "# removing id columns\n",
    "corr_df = train.drop(['date_time','site_name','posa_continent','user_location_country',\n",
    "                      'user_location_region','user_location_city','user_id',\n",
    "                      'channel','srch_destination_id','index','is_booking'], axis =1)\n",
    "\n",
    "sns.heatmap(corr_df.corr(),annot= False,linewidths= 0.5, vmin = -1, vmax =1)"
   ]
  },
  {
   "cell_type": "markdown",
   "metadata": {},
   "source": [
    "From correlation matrix, observed following things:\n",
    "- orig destination distance has a positive correlation with duration which means people who are planning for a long trip tend to go far away from the place of origin.\n",
    "- duration seems to have a strong positive correlation with is_package. This means that people who tend to book hotel for longer duration usually choose hotels as a part of a package.\n",
    "- duration is also positively correlated with hotel continent which means certain continents are preferred for longer duration of stay\n",
    "- srch_rm_cnt has a very strong correlation with srch_adults_cnt and with srch_children_cnt. This is expected as people tend to take rooms based on how many families/couples are there."
   ]
  },
  {
   "cell_type": "code",
   "execution_count": 22,
   "metadata": {
    "collapsed": false
   },
   "outputs": [
    {
     "name": "stderr",
     "output_type": "stream",
     "text": [
      "/usr/local/lib/python3.5/site-packages/seaborn/categorical.py:342: DeprecationWarning: pandas.core.common.is_categorical_dtype is deprecated. import from the public API: pandas.api.types.is_categorical_dtype instead\n",
      "  elif is_categorical(y):\n"
     ]
    },
    {
     "data": {
      "image/png": "[encoded data removed]",
      "text/plain": [
       "<matplotlib.figure.Figure at 0x3669df898>"
      ]
     },
     "metadata": {},
     "output_type": "display_data"
    }
   ],
   "source": [
    "# number of hoter clusters in each destination type id\n",
    "train['srch_destination_type_id'].unique()\n",
    "\n",
    "fig, ax1 = plt.subplots(1,1, figsize = (15,7))\n",
    "# cluster  = train['hotel_cluster'].value_counts()\n",
    "sns.barplot(x='srch_destination_type_id', y = 'hotel_cluster', data = train, palette = \"Set3\")\n",
    "plt.show()"
   ]
  },
  {
   "cell_type": "markdown",
   "metadata": {},
   "source": [
    "## Understanding  destination file which contains latent features extracted from hotel reviews"
   ]
  },
  {
   "cell_type": "code",
   "execution_count": 23,
   "metadata": {
    "collapsed": false
   },
   "outputs": [
    {
     "name": "stdout",
     "output_type": "stream",
     "text": [
      "Number of rows and cols in destination file - (62106, 150)\n"
     ]
    }
   ],
   "source": [
    "destination = pd.read_csv(destinations_file)\n",
    "print(\"Number of rows and cols in destination file -\",destination.shape)"
   ]
  },
  {
   "cell_type": "markdown",
   "metadata": {},
   "source": [
    "##### Destination file contains 149 latent features for each destination, need to apply PCA to extract the most relevant dimensions"
   ]
  },
  {
   "cell_type": "code",
   "execution_count": 24,
   "metadata": {
    "collapsed": false
   },
   "outputs": [
    {
     "data": {
      "text/plain": [
       "<matplotlib.text.Text at 0x114eec3c8>"
      ]
     },
     "execution_count": 24,
     "metadata": {},
     "output_type": "execute_result"
    },
    {
     "data": {
      "image/png": "[encoded data removed]",
      "text/plain": [
       "<matplotlib.figure.Figure at 0x10dfb1c18>"
      ]
     },
     "metadata": {},
     "output_type": "display_data"
    }
   ],
   "source": [
    "from sklearn.decomposition import PCA \n",
    "\n",
    "pca = PCA(n_components=149)\n",
    "pca.fit_transform(destination[[\"d{0}\".format(i + 1) for i in range(149)]])\n",
    "\n",
    "fig, ax1 = plt.subplots(1, figsize = (5,3))\n",
    "plt.clf()\n",
    "plt.plot(pca.explained_variance_, linewidth=1.5)\n",
    "plt.xlabel('n_components')\n",
    "plt.ylabel('Explained variance')"
   ]
  },
  {
   "cell_type": "markdown",
   "metadata": {},
   "source": [
    "As clear from above figure, we should select the number of component as 20 as variance is not explained much  by further increasing the dimensions. We add these latent features along with our already prepared features."
   ]
  },
  {
   "cell_type": "code",
   "execution_count": 25,
   "metadata": {
    "collapsed": false
   },
   "outputs": [
    {
     "data": {
      "text/plain": [
       "[0, 1, 2, 3, 4, 5, 6, 7, 8, 9, 10, 11, 12, 13, 14, 15, 16, 17, 18, 19]"
      ]
     },
     "execution_count": 25,
     "metadata": {},
     "output_type": "execute_result"
    }
   ],
   "source": [
    "# creating 20 features from destination file\n",
    "\n",
    "p = PCA(n_components=20, random_state = 3)\n",
    "df = p.fit_transform(destination[[\"d{0}\".format(i + 1) for i in range(20)]])\n",
    "df = pd.DataFrame(df)\n",
    "df[\"srch_destination_id\"] = destination[\"srch_destination_id\"]\n",
    "df.head()\n",
    "col = df.columns.tolist()\n",
    "col[:-1]"
   ]
  },
  {
   "cell_type": "code",
   "execution_count": 26,
   "metadata": {
    "collapsed": false
   },
   "outputs": [
    {
     "data": {
      "text/plain": [
       "(62106, 21)"
      ]
     },
     "execution_count": 26,
     "metadata": {},
     "output_type": "execute_result"
    }
   ],
   "source": [
    "df.shape"
   ]
  },
  {
   "cell_type": "code",
   "execution_count": 27,
   "metadata": {
    "collapsed": true
   },
   "outputs": [],
   "source": [
    "# append pca features to train data on srch_destination_id using left join\n",
    "\n",
    "new_train = pd.merge(train, df, on='srch_destination_id', how='left')\n"
   ]
  },
  {
   "cell_type": "code",
   "execution_count": 28,
   "metadata": {
    "collapsed": true
   },
   "outputs": [],
   "source": [
    "# replacing missing values of destination file\n",
    "# this will be improved by using collaborative filtering to find similar destinations\n",
    "\n",
    "for i in col[:-1]:\n",
    "    new_train[i].fillna(new_train[i].mean(), inplace = True)"
   ]
  },
  {
   "cell_type": "code",
   "execution_count": 29,
   "metadata": {
    "collapsed": true
   },
   "outputs": [],
   "source": [
    "# saving final train file after processing \n",
    "\n",
    "new_train.to_csv(os.path.join(INPUT_DIR, 'train_final.csv'))"
   ]
  },
  {
   "cell_type": "code",
   "execution_count": 30,
   "metadata": {
    "collapsed": true
   },
   "outputs": [],
   "source": [
    "# function to calculate mean precision score while doing cross validation on training dataset\n",
    "\n",
    "def apk(actual, predicted, k=10):\n",
    "    \"\"\"\n",
    "    Computes the average precision at k between two lists of items.\n",
    "    Parameters\n",
    "    ----------\n",
    "    actual : list\n",
    "             A list of elements that are to be predicted (order doesn't matter)\n",
    "    predicted : list\n",
    "                A list of predicted elements (order does matter)\n",
    "    k : int, optional\n",
    "        The maximum number of predicted elements\n",
    "    Returns\n",
    "    -------\n",
    "    score : double\n",
    "            The average precision at k over the input lists\n",
    "    \"\"\"\n",
    "    score = 0.0\n",
    "    num_hits = 0.0\n",
    "    if len(predicted)>k:\n",
    "        predicted = predicted[:k]\n",
    "\n",
    "    for i,p in enumerate(predicted):\n",
    "        if p in actual and p not in predicted[:i]:\n",
    "            num_hits += 1.0\n",
    "            score += num_hits / (i+1.0)\n",
    "        if not actual:\n",
    "            return 0.0\n",
    "    return score / min(len(actual), k)\n",
    "\n",
    "def mapk(actual, predicted, k=10):\n",
    "    \"\"\"\n",
    "    Computes the mean average precision at k.\n",
    "    \n",
    "    Parameters\n",
    "    ----------\n",
    "    actual : list\n",
    "             A list of lists of elements that are to be predicted \n",
    "             (order doesn't matter in the lists)\n",
    "    predicted : list\n",
    "                A list of lists of predicted elements\n",
    "                (order matters in the lists)\n",
    "    k : int, optional\n",
    "        The maximum number of predicted elements\n",
    "    Returns\n",
    "    -------\n",
    "    score : double\n",
    "            The mean average precision at k over the input lists\n",
    "    \"\"\"\n",
    "    return np.mean([apk(a,p,k) for a,p in zip(actual, predicted)])"
   ]
  },
  {
   "cell_type": "markdown",
   "metadata": {},
   "source": [
    "# Creating Model\n",
    "\n",
    "## 1) Random Forests"
   ]
  },
  {
   "cell_type": "markdown",
   "metadata": {},
   "source": [
    "Commented code below is while testing the model using cross validation"
   ]
  },
  {
   "cell_type": "code",
   "execution_count": null,
   "metadata": {
    "collapsed": true
   },
   "outputs": [],
   "source": [
    "# 1) splitting training data on time\n",
    "\n",
    "# tr = new_train.loc[new_train[\"date_time\"].dt.year == 2013]\n",
    "# ts = new_train.loc[new_train[\"date_time\"].dt.year == 2014]\n",
    "# predictors = [c for c in new_train.columns if c not in [\"hotel_cluster\",\"date_time\"]]\n",
    "\n",
    "# X = tr[predictors]\n",
    "# y = tr['hotel_cluster']\n",
    "# # x_train, x_test, y_train, y_test = train_test_split(X, y, test_size=0.2, random_state=3)\n",
    "\n",
    "# rfc = RandomForestClassifier(n_estimators=100,max_depth=5, min_weight_fraction_leaf=0.1,\n",
    "#                              random_state=3)\n",
    "# rfc.fit(X,y)\n",
    "\n",
    "# # calculate probablities for each class\n",
    "\n",
    "# predicted_prob = rfc.predict_proba(ts[predictors])\n",
    "\n",
    "# #creating dataframe of predicted probabilities\n",
    "# predictions_df = pd.DataFrame(predicted_prob)\n"
   ]
  },
  {
   "cell_type": "code",
   "execution_count": 31,
   "metadata": {
    "collapsed": true
   },
   "outputs": [],
   "source": [
    "# For predictions on kaggle\n",
    "# training data using random forests\n",
    "\n",
    "predictors = [c for c in new_train.columns if c not in ['index','cnt','user_id','is_booking',\n",
    "                                                        \"hotel_cluster\",\"date_time\"]]\n",
    "\n",
    "X = new_train[predictors]\n",
    "y = new_train['hotel_cluster']\n",
    "# x_train, x_test, y_train, y_test = train_test_split(X, y, test_size=0.2, random_state=3)\n",
    "\n",
    "rfc = RandomForestClassifier(n_estimators=1000,max_depth=5, min_weight_fraction_leaf=0.1,\n",
    "                             n_jobs = -1, random_state=3)\n",
    "\n"
   ]
  },
  {
   "cell_type": "code",
   "execution_count": null,
   "metadata": {
    "collapsed": true
   },
   "outputs": [],
   "source": [
    "# fitting data to random forest model\n",
    "\n",
    "rfc.fit(X,y)"
   ]
  },
  {
   "cell_type": "code",
   "execution_count": null,
   "metadata": {
    "collapsed": true
   },
   "outputs": [],
   "source": [
    "# saving model to file\n",
    "\n",
    "joblib.dump(rfc, 'model3.pkl')"
   ]
  },
  {
   "cell_type": "code",
   "execution_count": null,
   "metadata": {
    "collapsed": true
   },
   "outputs": [],
   "source": [
    "rf_models_file = os.path.join(MODELS_DIR, 'model3.pkl')"
   ]
  },
  {
   "cell_type": "markdown",
   "metadata": {},
   "source": [
    "### XGBoost algorithm"
   ]
  },
  {
   "cell_type": "code",
   "execution_count": null,
   "metadata": {
    "collapsed": true
   },
   "outputs": [],
   "source": [
    "# training xgboost\n",
    "\n",
    "predictors = [c for c in new_train.columns if c not in ['cnt','user_id','is_booking',\n",
    "                                                        \"hotel_cluster\",\"date_time\",'index']]\n",
    "\n",
    "X = new_train[predictors]\n",
    "y = new_train['hotel_cluster']\n",
    "\n",
    "clf = XGBClassifier(learning_rate =0.1,n_estimators=1000,max_depth=5,min_child_weight=1,gamma=0,subsample=0.8,\n",
    "                    colsample_bytree=0.8, objective= 'multi:softprob',scale_pos_weight=1,random_state=3, n_jobs=-1)"
   ]
  },
  {
   "cell_type": "code",
   "execution_count": null,
   "metadata": {
    "collapsed": true
   },
   "outputs": [],
   "source": [
    "# fitting data to xgboost\n",
    "\n",
    "clf.fit(X,y)"
   ]
  },
  {
   "cell_type": "code",
   "execution_count": null,
   "metadata": {
    "collapsed": true
   },
   "outputs": [],
   "source": [
    "# saving model to file\n",
    "\n",
    "joblib.dump(clf, 'model4.pkl')"
   ]
  },
  {
   "cell_type": "code",
   "execution_count": null,
   "metadata": {
    "collapsed": true
   },
   "outputs": [],
   "source": [
    "xg_models_file = os.path.join(MODELS_DIR, 'model4.pkl')"
   ]
  },
  {
   "cell_type": "code",
   "execution_count": null,
   "metadata": {
    "collapsed": true
   },
   "outputs": [],
   "source": []
  }
 ],
 "metadata": {
  "kernelspec": {
   "display_name": "Python 3",
   "language": "python",
   "name": "python3"
  },
  "language_info": {
   "codemirror_mode": {
    "name": "ipython",
    "version": 3
   },
   "file_extension": ".py",
   "mimetype": "text/x-python",
   "name": "python",
   "nbconvert_exporter": "python",
   "pygments_lexer": "ipython3",
   "version": "3.5.2"
  }
 },
 "nbformat": 4,
 "nbformat_minor": 1
}
